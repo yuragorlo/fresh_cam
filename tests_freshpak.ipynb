{
 "cells": [
  {
   "cell_type": "code",
   "execution_count": 1,
   "metadata": {},
   "outputs": [],
   "source": [
    "# import pytesseract\n",
    "# img = '/home/mnemonic/work/digits/real_source_2/21.jpg'\n",
    "# custom_config = r'--oem 3 --psm 6 outputbase digits'\n",
    "# print(pytesseract.image_to_string(img, config=custom_config))\n",
    "\n",
    "# read hid device python\n",
    "# https://www.ontrak.net/pythonhidapi.htm\n",
    "# https://pypi.org/project/hid/\n",
    "\n",
    "# full screen opencv\n",
    "# https://answers.opencv.org/question/198479/display-a-streamed-video-in-full-screen-opencv3/"
   ]
  },
  {
   "cell_type": "code",
   "execution_count": 1,
   "metadata": {},
   "outputs": [],
   "source": [
    "import pyzbar.pyzbar as pyzbar\n",
    "import numpy as np\n",
    "import mysql.connector\n",
    "import threading\n",
    "import cv2\n",
    "import time\n",
    "import logging\n",
    "from datetime import datetime\n",
    "from contextlib import closing"
   ]
  },
  {
   "cell_type": "code",
   "execution_count": 2,
   "metadata": {},
   "outputs": [],
   "source": [
    "def create_table(config):\n",
    "    mydb = mysql.connector.connect(**config)\n",
    "    with closing(mydb) as conn:\n",
    "        with conn.cursor() as cursor:\n",
    "            cursor.execute('CREATE TABLE IF NOT EXISTS qr_table (id INT NOT NULL AUTO_INCREMENT, data VARCHAR(100) NOT NULL, time TIMESTAMP NOT NULL, route VARCHAR(10) NOT NULL, check_flag INT NOT NULL, PRIMARY KEY (id));')\n",
    "            conn.commit()\n",
    "\n",
    "def push_to_db(qr_dict, config):\n",
    "    mydb = mysql.connector.connect(**config)\n",
    "    with closing(mydb) as conn:\n",
    "        with conn.cursor() as cursor:\n",
    "            placeholders = ', '.join(['%s'] * len(qr_dict))\n",
    "            columns = ', '.join(qr_dict.keys())\n",
    "            sql = \"INSERT INTO %s ( %s ) VALUES ( %s )\" % ('qr_table', columns, placeholders)\n",
    "            cursor.execute(sql, list(qr_dict.values()))\n",
    "            conn.commit()\n",
    "            rootLogger.info(f'{qr_dict} data have been writed to db')"
   ]
  },
  {
   "cell_type": "code",
   "execution_count": 3,
   "metadata": {},
   "outputs": [],
   "source": [
    "def registrate_new_qr(decodedObjects, STOCK_LAST_DATA, camera_label):\n",
    "    \n",
    "    min_size_stock_last_data = 3\n",
    "    max_size_stock_last_data = 7\n",
    "    default_check_flag = 0    \n",
    "    current_data_list = [x.data.decode(\"utf-8\") for x in decodedObjects]\n",
    "    \n",
    "    # push new data to db  \n",
    "    if not any(item in current_data_list for item in STOCK_LAST_DATA):\n",
    "        for obj in decodedObjects:\n",
    "            # init dict with current data\n",
    "            now = datetime.now()\n",
    "            new_data = {'data': obj.data.decode(\"utf-8\"),\n",
    "                      'time': now.strftime(\"%Y/%m/%d %H:%M:%S\"),\n",
    "                      'route': camera_label,\n",
    "                      'check_flag': default_check_flag}\n",
    "            # insert new qr code with time registration to qr_table qr database\n",
    "            push_to_db(new_data, DB_CONFIG)\n",
    "            \n",
    "    # add new data to STOCK_LAST_DATA\n",
    "    for obj in decodedObjects:\n",
    "        if obj.data.decode(\"utf-8\") not in STOCK_LAST_DATA: \n",
    "            STOCK_LAST_DATA.append(obj.data.decode(\"utf-8\"))\n",
    "            debugLogger.debug(f'{obj.data.decode(\"utf-8\")} have been append to STOCK_LAST_DATA')\n",
    "            \n",
    "    # clean STOCK_LAST_DATA and pass only min_size_stock_last_data elements\n",
    "    if len(STOCK_LAST_DATA)>max_size_stock_last_data:\n",
    "        STOCK_LAST_DATA = STOCK_LAST_DATA[-min_size_stock_last_data:]\n",
    "        debugLogger.debug(f'delite part of data from stock. Current stock: {STOCK_LAST_DATA}')\n",
    "        \n",
    "    return STOCK_LAST_DATA"
   ]
  },
  {
   "cell_type": "code",
   "execution_count": 4,
   "metadata": {},
   "outputs": [],
   "source": [
    "def add_qr_to_frame(frame, decodedObjects):\n",
    "    \n",
    "    for decodedObject in decodedObjects:        \n",
    "        # Drow square around qr\n",
    "        points = decodedObject.polygon\n",
    "        # If the points do not form a quad, find convex hull\n",
    "        if len(points) > 4 : \n",
    "          hull = cv2.convexHull(np.array([point for point in points], dtype=np.float32))\n",
    "          hull = list(map(tuple, np.squeeze(hull)))\n",
    "        else : \n",
    "          hull = points\n",
    "        # Number of points in the convex hull\n",
    "        n = len(hull)     \n",
    "        # Draw the convext hull\n",
    "        for j in range(0,n):\n",
    "          cv2.line(frame, hull[j], hull[ (j+1) % n], (0,0,255), 3)\n",
    "        \n",
    "        # Show text\n",
    "        x = decodedObject.rect.left\n",
    "        y = decodedObject.rect.top\n",
    "        barCode = str(decodedObject.data.decode(\"utf-8\"))\n",
    "        cv2.putText(frame, barCode, (x, y), cv2.FONT_HERSHEY_SIMPLEX, 1, (255,255,255), 2, cv2.LINE_AA)"
   ]
  },
  {
   "cell_type": "code",
   "execution_count": 5,
   "metadata": {},
   "outputs": [],
   "source": [
    "def process_stream(STREAM_URL, camera_label, DB_CONFIG):\n",
    "    \n",
    "    # Create mysql table for qr data if not exist\n",
    "    create_table(DB_CONFIG)\n",
    "\n",
    "    # Get the webcam or stream: \n",
    "    if STREAM_URL == '':\n",
    "        cap = cv2.VideoCapture(0)\n",
    "    else:\n",
    "        cap = cv2.VideoCapture(STREAM_URL)\n",
    "        \n",
    "    # Resize cap axample size 1024.0 x 768.0; 1280.0 x 1024.0\n",
    "    cap.set(3,640)\n",
    "    cap.set(4,480)\n",
    "    time.sleep(2)\n",
    "\n",
    "    # Init stock - short memory for qr data\n",
    "    STOCK_LAST_DATA = []\n",
    "\n",
    "    # Endless cycle\n",
    "    while(cap.isOpened()):\n",
    "        # Capture frame-by-frame\n",
    "        ret, frame = cap.read()\n",
    "        # Fix time\n",
    "        last_time = time.time()\n",
    "        # Our operations on the frame come here\n",
    "        im = cv2.cvtColor(frame, cv2.COLOR_BGR2GRAY) \n",
    "        # Processing QR in frame\n",
    "        decodedObjects = pyzbar.decode(im)              \n",
    "        if decodedObjects:\n",
    "            # Update stock and push to db if not in stock \n",
    "            STOCK_LAST_DATA = registrate_new_qr(decodedObjects, STOCK_LAST_DATA, camera_label)\n",
    "            # Add square arround qr and text with data on frame \n",
    "            add_qr_to_frame(frame, decodedObjects)\n",
    "        # Display FPS:\n",
    "        cv2.putText(frame, \"FPS: %f\" % (1.0 / (time.time() - last_time)),\n",
    "                                (10, 20),  cv2.FONT_HERSHEY_SIMPLEX, 0.5, (255, 255, 255), 1)\n",
    "        # Display the resulting frame\n",
    "        cv2.imshow(camera_label+'_frame',frame)\n",
    "        # Control keys\n",
    "        key = cv2.waitKey(1)\n",
    "        if key & 0xFF == ord('q'):\n",
    "            break\n",
    "        elif key & 0xFF == ord('s'): # wait for 's' key to save \n",
    "            cv2.imwrite('Capture.png', frame)     \n",
    "\n",
    "    # When everything done, release the capture\n",
    "    cap.release()\n",
    "    cv2.destroyAllWindows()"
   ]
  },
  {
   "cell_type": "code",
   "execution_count": 6,
   "metadata": {},
   "outputs": [
    {
     "name": "stderr",
     "output_type": "stream",
     "text": [
      "Exception in thread Thread-4:\n",
      "Traceback (most recent call last):\n",
      "  File \"/usr/lib/python3.8/threading.py\", line 932, in _bootstrap_inner\n",
      "    self.run()\n",
      "  File \"/usr/lib/python3.8/threading.py\", line 870, in run\n",
      "    self._target(*self._args, **self._kwargs)\n",
      "  File \"<ipython-input-5-e0a5b8067553>\", line 27, in process_stream\n",
      "cv2.error: OpenCV(4.2.0) ../modules/imgproc/src/color.cpp:182: error: (-215:Assertion failed) !_src.empty() in function 'cvtColor'\n",
      "\n"
     ]
    }
   ],
   "source": [
    "# Global variebles\n",
    "# Example \"rtsp://192.168.1.2:8080/out.h264\" if empty() - use front notebook camera\n",
    "RIGHT_STREAM = 'rtsp://wowzaec2demo.streamlock.net/vod/mp4:BigBuckBunny_115k.mov' \n",
    "LEFT_STREAM = ''\n",
    "\n",
    "# Side labels. There are 'names' of cameras. We have 2 cameras in system: 'left' and 'right' now\n",
    "RIGHT_LABEL = 'right'\n",
    "LEFT_LABEL = 'left'\n",
    "\n",
    "# DB config. You should create qr database, but qr_table table will create automatically if it not exist \n",
    "DB_CONFIG = {\n",
    "    'host': \"localhost\",\n",
    "    'user': \"mysql_user\",\n",
    "    'password': \"mysql_password\",\n",
    "    'database': \"qr\"}\n",
    "\n",
    "\n",
    "if __name__ == '__main__':\n",
    "    \n",
    "    # Logger\n",
    "    logFormatter = logging.Formatter(\"%(asctime)s [%(threadName)-12.12s] [function %(funcName)s] [%(levelname)-5.5s] %(message)s\")\n",
    "    global rootLogger\n",
    "    rootLogger = logging.getLogger('root')\n",
    "    rootLogger.setLevel(logging.INFO)\n",
    "    fileHandler_root = logging.FileHandler(\"log.log\")\n",
    "    fileHandler_root.setFormatter(logFormatter)\n",
    "    rootLogger.addHandler(fileHandler_root)\n",
    "    global debugLogger\n",
    "    debugLogger = logging.getLogger('debug')\n",
    "    debugLogger.setLevel(logging.DEBUG)\n",
    "    fileHandler_debug = logging.FileHandler(\"debug.log\")\n",
    "    fileHandler_debug.setFormatter(logFormatter)\n",
    "    debugLogger.addHandler(fileHandler_debug)\n",
    "    \n",
    "    try:\n",
    "        # Process streams\n",
    "        thread_right = threading.Thread(target=process_stream, args=(RIGHT_STREAM, RIGHT_LABEL, DB_CONFIG, )) \n",
    "        thread_left = threading.Thread(target=process_stream, args=(LEFT_STREAM, LEFT_LABEL, DB_CONFIG, )) \n",
    "        thread_right.start()\n",
    "        rootLogger.info('thread_right have been started')\n",
    "        thread_left.start()\n",
    "        rootLogger.info('thread_left have been started')\n",
    "        thread_right.join()\n",
    "        rootLogger.info('thread_right have been stoped')\n",
    "        thread_left.join()\n",
    "        rootLogger.info('thread_left have been stoped')\n",
    "    except Exception as e:\n",
    "        debugLogger.exception(e)\n",
    "        #     rootLogger.info(\"Exception occurred\")\n"
   ]
  },
  {
   "cell_type": "code",
   "execution_count": null,
   "metadata": {},
   "outputs": [],
   "source": []
  },
  {
   "cell_type": "code",
   "execution_count": 7,
   "metadata": {},
   "outputs": [
    {
     "name": "stdout",
     "output_type": "stream",
     "text": [
      "total 148\n",
      "drwxrwxr-x 5 mnemonic mnemonic  4096 Nov  9 10:58 .\n",
      "drwxrwxr-x 4 mnemonic mnemonic  4096 Oct  7 11:21 ..\n",
      "-rw-rw-r-- 1 mnemonic mnemonic 16655 Nov  9 10:59 debug.log\n",
      "drwxrwxr-x 2 mnemonic mnemonic  4096 Oct 31 15:46 .ipynb_checkpoints\n",
      "-rw-rw-r-- 1 mnemonic mnemonic 57084 Nov  9 11:00 log.log\n",
      "-rw-rw-r-- 1 mnemonic mnemonic 30438 Nov  4 13:47 python_libs_3_datarut.ipynb\n",
      "drwxr-xr-x 2 mnemonic mnemonic  4096 Oct  3 16:46 real_source\n",
      "drwxrwxr-x 2 mnemonic mnemonic  4096 Oct 27 16:08 real_source_2\n",
      "-rw-rw-r-- 1 mnemonic mnemonic 11503 Nov  9 10:58 tests_freshpak.ipynb\n"
     ]
    }
   ],
   "source": [
    "! ls -la"
   ]
  },
  {
   "cell_type": "code",
   "execution_count": 1,
   "metadata": {},
   "outputs": [
    {
     "name": "stdout",
     "output_type": "stream",
     "text": [
      "2020-11-09 10:59:22,462 [Thread-25   ] [function registrate_new_qr] [DEBUG] https://www.dropbox.com/s/705b6p4a2ydvayx/EN-Poster.pdf?dl=0 have been append to STOCK_LAST_DATA\n",
      "2020-11-09 10:59:22,462 [Thread-25   ] [function registrate_new_qr] [DEBUG] https://www.dropbox.com/s/705b6p4a2ydvayx/EN-Poster.pdf?dl=0 have been append to STOCK_LAST_DATA\n",
      "2020-11-09 10:59:22,462 [Thread-25   ] [function registrate_new_qr] [DEBUG] https://www.dropbox.com/s/705b6p4a2ydvayx/EN-Poster.pdf?dl=0 have been append to STOCK_LAST_DATA\n",
      "2020-11-09 10:59:22,462 [Thread-25   ] [function registrate_new_qr] [DEBUG] https://www.dropbox.com/s/705b6p4a2ydvayx/EN-Poster.pdf?dl=0 have been append to STOCK_LAST_DATA\n",
      "2020-11-09 10:59:22,462 [Thread-25   ] [function registrate_new_qr] [DEBUG] https://www.dropbox.com/s/705b6p4a2ydvayx/EN-Poster.pdf?dl=0 have been append to STOCK_LAST_DATA\n",
      "2020-11-09 10:59:22,462 [Thread-25   ] [function registrate_new_qr] [DEBUG] https://www.dropbox.com/s/705b6p4a2ydvayx/EN-Poster.pdf?dl=0 have been append to STOCK_LAST_DATA\n",
      "2020-11-09 10:59:22,462 [Thread-25   ] [function registrate_new_qr] [DEBUG] https://www.dropbox.com/s/705b6p4a2ydvayx/EN-Poster.pdf?dl=0 have been append to STOCK_LAST_DATA\n",
      "2020-11-09 10:59:22,462 [Thread-25   ] [function registrate_new_qr] [DEBUG] https://www.dropbox.com/s/705b6p4a2ydvayx/EN-Poster.pdf?dl=0 have been append to STOCK_LAST_DATA\n",
      "2020-11-09 11:01:54,815 [Thread-7    ] [function registrate_new_qr] [DEBUG] https://www.dropbox.com/s/705b6p4a2ydvayx/EN-Poster.pdf?dl=0 have been append to STOCK_LAST_DATA\n",
      "2020-11-09 11:01:54,815 [Thread-7    ] [function registrate_new_qr] [DEBUG] https://www.dropbox.com/s/705b6p4a2ydvayx/EN-Poster.pdf?dl=0 have been append to STOCK_LAST_DATA\n"
     ]
    }
   ],
   "source": [
    "! tail debug.log"
   ]
  },
  {
   "cell_type": "code",
   "execution_count": null,
   "metadata": {},
   "outputs": [],
   "source": []
  }
 ],
 "metadata": {
  "kernelspec": {
   "display_name": "Python 3",
   "language": "python",
   "name": "python3"
  },
  "language_info": {
   "codemirror_mode": {
    "name": "ipython",
    "version": 3
   },
   "file_extension": ".py",
   "mimetype": "text/x-python",
   "name": "python",
   "nbconvert_exporter": "python",
   "pygments_lexer": "ipython3",
   "version": "3.8.5"
  }
 },
 "nbformat": 4,
 "nbformat_minor": 4
}
